{
 "cells": [
  {
   "cell_type": "code",
   "execution_count": 41,
   "metadata": {},
   "outputs": [],
   "source": [
    "import csv\n",
    "import matplotlib.pyplot as plt \n",
    "import numpy as np\n",
    "\n"
   ]
  },
  {
   "cell_type": "code",
   "execution_count": null,
   "metadata": {},
   "outputs": [],
   "source": []
  },
  {
   "cell_type": "code",
   "execution_count": 42,
   "metadata": {},
   "outputs": [
    {
     "data": {
      "text/plain": [
       "(2, 156)"
      ]
     },
     "execution_count": 42,
     "metadata": {},
     "output_type": "execute_result"
    }
   ],
   "source": [
    "fi_cards = open('cards.csv','r')\n",
    "read_cards = csv.reader(fi_cards)\n",
    "fi_count = open('count.csv','r')\n",
    "read_count = csv.reader(fi_count)\n",
    "\n",
    "def Card():\n",
    "    for card in read_cards:\n",
    "        return card\n",
    "def Count():\n",
    "    for count in read_count:\n",
    "        return count\n",
    "#print(Card(),Count())\n",
    "x_val = Card()\n",
    "y_val = Count()\n",
    "\n",
    "inps_outs = [x_val,y_val]\n",
    "\n",
    "np.shape(inps_outs)\n",
    "#print(inps_outs)\n"
   ]
  },
  {
   "cell_type": "code",
   "execution_count": 45,
   "metadata": {},
   "outputs": [
    {
     "ename": "ValueError",
     "evalue": "`bins` must increase monotonically, when an array",
     "output_type": "error",
     "traceback": [
      "\u001b[0;31m---------------------------------------------------------------------------\u001b[0m",
      "\u001b[0;31mValueError\u001b[0m                                Traceback (most recent call last)",
      "\u001b[1;32m/home/one/coding-projects/52predict/countplot.ipynb Cell 4'\u001b[0m in \u001b[0;36m<cell line: 2>\u001b[0;34m()\u001b[0m\n\u001b[1;32m      <a href='vscode-notebook-cell://ssh-remote%2B7b22686f73744e616d65223a22504f534549444f4e2d6c6f63616c227d/home/one/coding-projects/52predict/countplot.ipynb#ch0000001vscode-remote?line=0'>1</a>\u001b[0m fig, ax \u001b[39m=\u001b[39m plt\u001b[39m.\u001b[39msubplots(figsize \u001b[39m=\u001b[39m(\u001b[39m10\u001b[39m, \u001b[39m7\u001b[39m))\n\u001b[0;32m----> <a href='vscode-notebook-cell://ssh-remote%2B7b22686f73744e616d65223a22504f534549444f4e2d6c6f63616c227d/home/one/coding-projects/52predict/countplot.ipynb#ch0000001vscode-remote?line=1'>2</a>\u001b[0m ax\u001b[39m.\u001b[39;49mhist(y_val,x_val)\n",
      "File \u001b[0;32m~/coding-projects/52predict/venv/lib/python3.8/site-packages/matplotlib/__init__.py:1412\u001b[0m, in \u001b[0;36m_preprocess_data.<locals>.inner\u001b[0;34m(ax, data, *args, **kwargs)\u001b[0m\n\u001b[1;32m   <a href='file:///home/one/coding-projects/52predict/venv/lib/python3.8/site-packages/matplotlib/__init__.py?line=1408'>1409</a>\u001b[0m \u001b[39m@functools\u001b[39m\u001b[39m.\u001b[39mwraps(func)\n\u001b[1;32m   <a href='file:///home/one/coding-projects/52predict/venv/lib/python3.8/site-packages/matplotlib/__init__.py?line=1409'>1410</a>\u001b[0m \u001b[39mdef\u001b[39;00m \u001b[39minner\u001b[39m(ax, \u001b[39m*\u001b[39margs, data\u001b[39m=\u001b[39m\u001b[39mNone\u001b[39;00m, \u001b[39m*\u001b[39m\u001b[39m*\u001b[39mkwargs):\n\u001b[1;32m   <a href='file:///home/one/coding-projects/52predict/venv/lib/python3.8/site-packages/matplotlib/__init__.py?line=1410'>1411</a>\u001b[0m     \u001b[39mif\u001b[39;00m data \u001b[39mis\u001b[39;00m \u001b[39mNone\u001b[39;00m:\n\u001b[0;32m-> <a href='file:///home/one/coding-projects/52predict/venv/lib/python3.8/site-packages/matplotlib/__init__.py?line=1411'>1412</a>\u001b[0m         \u001b[39mreturn\u001b[39;00m func(ax, \u001b[39m*\u001b[39;49m\u001b[39mmap\u001b[39;49m(sanitize_sequence, args), \u001b[39m*\u001b[39;49m\u001b[39m*\u001b[39;49mkwargs)\n\u001b[1;32m   <a href='file:///home/one/coding-projects/52predict/venv/lib/python3.8/site-packages/matplotlib/__init__.py?line=1413'>1414</a>\u001b[0m     bound \u001b[39m=\u001b[39m new_sig\u001b[39m.\u001b[39mbind(ax, \u001b[39m*\u001b[39margs, \u001b[39m*\u001b[39m\u001b[39m*\u001b[39mkwargs)\n\u001b[1;32m   <a href='file:///home/one/coding-projects/52predict/venv/lib/python3.8/site-packages/matplotlib/__init__.py?line=1414'>1415</a>\u001b[0m     auto_label \u001b[39m=\u001b[39m (bound\u001b[39m.\u001b[39marguments\u001b[39m.\u001b[39mget(label_namer)\n\u001b[1;32m   <a href='file:///home/one/coding-projects/52predict/venv/lib/python3.8/site-packages/matplotlib/__init__.py?line=1415'>1416</a>\u001b[0m                   \u001b[39mor\u001b[39;00m bound\u001b[39m.\u001b[39mkwargs\u001b[39m.\u001b[39mget(label_namer))\n",
      "File \u001b[0;32m~/coding-projects/52predict/venv/lib/python3.8/site-packages/matplotlib/axes/_axes.py:6639\u001b[0m, in \u001b[0;36mAxes.hist\u001b[0;34m(self, x, bins, range, density, weights, cumulative, bottom, histtype, align, orientation, rwidth, log, color, label, stacked, **kwargs)\u001b[0m\n\u001b[1;32m   <a href='file:///home/one/coding-projects/52predict/venv/lib/python3.8/site-packages/matplotlib/axes/_axes.py?line=6634'>6635</a>\u001b[0m \u001b[39m# Loop through datasets\u001b[39;00m\n\u001b[1;32m   <a href='file:///home/one/coding-projects/52predict/venv/lib/python3.8/site-packages/matplotlib/axes/_axes.py?line=6635'>6636</a>\u001b[0m \u001b[39mfor\u001b[39;00m i \u001b[39min\u001b[39;00m \u001b[39mrange\u001b[39m(nx):\n\u001b[1;32m   <a href='file:///home/one/coding-projects/52predict/venv/lib/python3.8/site-packages/matplotlib/axes/_axes.py?line=6636'>6637</a>\u001b[0m     \u001b[39m# this will automatically overwrite bins,\u001b[39;00m\n\u001b[1;32m   <a href='file:///home/one/coding-projects/52predict/venv/lib/python3.8/site-packages/matplotlib/axes/_axes.py?line=6637'>6638</a>\u001b[0m     \u001b[39m# so that each histogram uses the same bins\u001b[39;00m\n\u001b[0;32m-> <a href='file:///home/one/coding-projects/52predict/venv/lib/python3.8/site-packages/matplotlib/axes/_axes.py?line=6638'>6639</a>\u001b[0m     m, bins \u001b[39m=\u001b[39m np\u001b[39m.\u001b[39;49mhistogram(x[i], bins, weights\u001b[39m=\u001b[39;49mw[i], \u001b[39m*\u001b[39;49m\u001b[39m*\u001b[39;49mhist_kwargs)\n\u001b[1;32m   <a href='file:///home/one/coding-projects/52predict/venv/lib/python3.8/site-packages/matplotlib/axes/_axes.py?line=6639'>6640</a>\u001b[0m     tops\u001b[39m.\u001b[39mappend(m)\n\u001b[1;32m   <a href='file:///home/one/coding-projects/52predict/venv/lib/python3.8/site-packages/matplotlib/axes/_axes.py?line=6640'>6641</a>\u001b[0m tops \u001b[39m=\u001b[39m np\u001b[39m.\u001b[39marray(tops, \u001b[39mfloat\u001b[39m)  \u001b[39m# causes problems later if it's an int\u001b[39;00m\n",
      "File \u001b[0;32m<__array_function__ internals>:180\u001b[0m, in \u001b[0;36mhistogram\u001b[0;34m(*args, **kwargs)\u001b[0m\n",
      "File \u001b[0;32m~/coding-projects/52predict/venv/lib/python3.8/site-packages/numpy/lib/histograms.py:793\u001b[0m, in \u001b[0;36mhistogram\u001b[0;34m(a, bins, range, normed, weights, density)\u001b[0m\n\u001b[1;32m    <a href='file:///home/one/coding-projects/52predict/venv/lib/python3.8/site-packages/numpy/lib/histograms.py?line=680'>681</a>\u001b[0m \u001b[39mr\u001b[39m\u001b[39m\"\"\"\u001b[39;00m\n\u001b[1;32m    <a href='file:///home/one/coding-projects/52predict/venv/lib/python3.8/site-packages/numpy/lib/histograms.py?line=681'>682</a>\u001b[0m \u001b[39mCompute the histogram of a dataset.\u001b[39;00m\n\u001b[1;32m    <a href='file:///home/one/coding-projects/52predict/venv/lib/python3.8/site-packages/numpy/lib/histograms.py?line=682'>683</a>\u001b[0m \n\u001b[0;32m   (...)\u001b[0m\n\u001b[1;32m    <a href='file:///home/one/coding-projects/52predict/venv/lib/python3.8/site-packages/numpy/lib/histograms.py?line=788'>789</a>\u001b[0m \n\u001b[1;32m    <a href='file:///home/one/coding-projects/52predict/venv/lib/python3.8/site-packages/numpy/lib/histograms.py?line=789'>790</a>\u001b[0m \u001b[39m\"\"\"\u001b[39;00m\n\u001b[1;32m    <a href='file:///home/one/coding-projects/52predict/venv/lib/python3.8/site-packages/numpy/lib/histograms.py?line=790'>791</a>\u001b[0m a, weights \u001b[39m=\u001b[39m _ravel_and_check_weights(a, weights)\n\u001b[0;32m--> <a href='file:///home/one/coding-projects/52predict/venv/lib/python3.8/site-packages/numpy/lib/histograms.py?line=792'>793</a>\u001b[0m bin_edges, uniform_bins \u001b[39m=\u001b[39m _get_bin_edges(a, bins, \u001b[39mrange\u001b[39;49m, weights)\n\u001b[1;32m    <a href='file:///home/one/coding-projects/52predict/venv/lib/python3.8/site-packages/numpy/lib/histograms.py?line=794'>795</a>\u001b[0m \u001b[39m# Histogram is an integer or a float array depending on the weights.\u001b[39;00m\n\u001b[1;32m    <a href='file:///home/one/coding-projects/52predict/venv/lib/python3.8/site-packages/numpy/lib/histograms.py?line=795'>796</a>\u001b[0m \u001b[39mif\u001b[39;00m weights \u001b[39mis\u001b[39;00m \u001b[39mNone\u001b[39;00m:\n",
      "File \u001b[0;32m~/coding-projects/52predict/venv/lib/python3.8/site-packages/numpy/lib/histograms.py:431\u001b[0m, in \u001b[0;36m_get_bin_edges\u001b[0;34m(a, bins, range, weights)\u001b[0m\n\u001b[1;32m    <a href='file:///home/one/coding-projects/52predict/venv/lib/python3.8/site-packages/numpy/lib/histograms.py?line=428'>429</a>\u001b[0m     bin_edges \u001b[39m=\u001b[39m np\u001b[39m.\u001b[39masarray(bins)\n\u001b[1;32m    <a href='file:///home/one/coding-projects/52predict/venv/lib/python3.8/site-packages/numpy/lib/histograms.py?line=429'>430</a>\u001b[0m     \u001b[39mif\u001b[39;00m np\u001b[39m.\u001b[39many(bin_edges[:\u001b[39m-\u001b[39m\u001b[39m1\u001b[39m] \u001b[39m>\u001b[39m bin_edges[\u001b[39m1\u001b[39m:]):\n\u001b[0;32m--> <a href='file:///home/one/coding-projects/52predict/venv/lib/python3.8/site-packages/numpy/lib/histograms.py?line=430'>431</a>\u001b[0m         \u001b[39mraise\u001b[39;00m \u001b[39mValueError\u001b[39;00m(\n\u001b[1;32m    <a href='file:///home/one/coding-projects/52predict/venv/lib/python3.8/site-packages/numpy/lib/histograms.py?line=431'>432</a>\u001b[0m             \u001b[39m'\u001b[39m\u001b[39m`bins` must increase monotonically, when an array\u001b[39m\u001b[39m'\u001b[39m)\n\u001b[1;32m    <a href='file:///home/one/coding-projects/52predict/venv/lib/python3.8/site-packages/numpy/lib/histograms.py?line=433'>434</a>\u001b[0m \u001b[39melse\u001b[39;00m:\n\u001b[1;32m    <a href='file:///home/one/coding-projects/52predict/venv/lib/python3.8/site-packages/numpy/lib/histograms.py?line=434'>435</a>\u001b[0m     \u001b[39mraise\u001b[39;00m \u001b[39mValueError\u001b[39;00m(\u001b[39m'\u001b[39m\u001b[39m`bins` must be 1d, when an array\u001b[39m\u001b[39m'\u001b[39m)\n",
      "\u001b[0;31mValueError\u001b[0m: `bins` must increase monotonically, when an array"
     ]
    },
    {
     "data": {
      "image/png": "[encoded data removed]",
      "text/plain": [
       "<Figure size 720x504 with 1 Axes>"
      ]
     },
     "metadata": {
      "needs_background": "light"
     },
     "output_type": "display_data"
    }
   ],
   "source": [
    "fig, ax = plt.subplots()\n",
    "ax.plot(x_val,y_val)"
   ]
  },
  {
   "cell_type": "code",
   "execution_count": null,
   "metadata": {},
   "outputs": [],
   "source": []
  }
 ],
 "metadata": {
  "interpreter": {
   "hash": "8876ff0715f85dfe1212ea8c50cf5bdd46b3b9049010a83810351a015f9656ac"
  },
  "kernelspec": {
   "display_name": "Python 3.8.10 ('venv': venv)",
   "language": "python",
   "name": "python3"
  },
  "language_info": {
   "codemirror_mode": {
    "name": "ipython",
    "version": 3
   },
   "file_extension": ".py",
   "mimetype": "text/x-python",
   "name": "python",
   "nbconvert_exporter": "python",
   "pygments_lexer": "ipython3",
   "version": "3.8.10"
  },
  "orig_nbformat": 4
 },
 "nbformat": 4,
 "nbformat_minor": 2
}
