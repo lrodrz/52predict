{
 "cells": [
  {
   "cell_type": "code",
   "execution_count": 13,
   "metadata": {},
   "outputs": [],
   "source": [
    "import csv\n",
    "import matplotlib.pyplot as plt \n",
    "from matplotlib import cm\n",
    "import numpy as np\n",
    "\n"
   ]
  },
  {
   "cell_type": "code",
   "execution_count": 38,
   "metadata": {},
   "outputs": [
    {
     "data": {
      "text/plain": [
       "(2, 1000)"
      ]
     },
     "execution_count": 38,
     "metadata": {},
     "output_type": "execute_result"
    }
   ],
   "source": [
    "fi_cards = open('cards.csv','r')\n",
    "read_cards = csv.reader(fi_cards)\n",
    "fi_count = open('count.csv','r')\n",
    "read_count = csv.reader(fi_count)\n",
    "\n",
    "def Card():\n",
    "    for card in read_cards:\n",
    "        return card\n",
    "def Count():\n",
    "    for count in read_count:\n",
    "        return count\n",
    "#print(Card(),Count())\n",
    "x_val = Card()\n",
    "y_val = Count()\n",
    "\n",
    "inps_outs = [x_val,y_val]\n",
    "\n",
    "np.shape(inps_outs)\n",
    "#print(inps_outs)\n"
   ]
  },
  {
   "cell_type": "code",
   "execution_count": 40,
   "metadata": {},
   "outputs": [
    {
     "data": {
      "text/plain": [
       "<BarContainer object of 1000 artists>"
      ]
     },
     "execution_count": 40,
     "metadata": {},
     "output_type": "execute_result"
    },
    {
     "data": {
      "image/png": "[encoded data removed]",
      "text/plain": [
       "<Figure size 432x288 with 1 Axes>"
      ]
     },
     "metadata": {
      "needs_background": "light"
     },
     "output_type": "display_data"
    }
   ],
   "source": [
    "fig, ax = plt.subplots()\n",
    "ax.bar(x_val,y_val)"
   ]
  }
 ],
 "metadata": {
  "interpreter": {
   "hash": "8876ff0715f85dfe1212ea8c50cf5bdd46b3b9049010a83810351a015f9656ac"
  },
  "kernelspec": {
   "display_name": "Python 3.8.10 ('venv': venv)",
   "language": "python",
   "name": "python3"
  },
  "language_info": {
   "codemirror_mode": {
    "name": "ipython",
    "version": 3
   },
   "file_extension": ".py",
   "mimetype": "text/x-python",
   "name": "python",
   "nbconvert_exporter": "python",
   "pygments_lexer": "ipython3",
   "version": "3.8.10"
  },
  "orig_nbformat": 4
 },
 "nbformat": 4,
 "nbformat_minor": 2
}
